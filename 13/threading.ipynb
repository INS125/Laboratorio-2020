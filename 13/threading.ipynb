{
 "cells": [
  {
   "cell_type": "markdown",
   "metadata": {
    "colab_type": "text",
    "id": "q8a7YfY60B1e"
   },
   "source": [
    "# Ejemplos Threading\n",
    "A continuación veremos algunos ejemplos de concurrencia utilizando la biblioteca threading."
   ]
  },
  {
   "cell_type": "markdown",
   "metadata": {
    "colab_type": "text",
    "id": "q8a7YfY60B1e"
   },
   "source": [
    "Podemos trabajar los hilos utilizando clases, de esta forma podemos definir su constructor y el método ****run***, el cual ejecutará su contenido cuando instanciemos la clase."
   ]
  },
  {
   "cell_type": "code",
   "execution_count": 10,
   "metadata": {
    "colab": {
     "base_uri": "https://localhost:8080/",
     "height": 35
    },
    "colab_type": "code",
    "id": "kl-4qt4K0cx7",
    "outputId": "d9311df9-44d9-4e86-ef56-b50c296abc89"
   },
   "outputs": [],
   "source": [
    "import threading\n",
    "\n",
    "class mi_hilo(threading.Thread):\n",
    "    def __init__(self, numero):\n",
    "        threading.Thread.__init__(self)\n",
    "        self.numero = numero\n",
    "    def run(self):\n",
    "        print (\"hola soy el hilo\", self.numero)\n",
    "\n",
    "hilo1 = mi_hilo(1)"
   ]
  },
  {
   "cell_type": "markdown",
   "metadata": {},
   "source": [
    "Debería haber escrito \"hola soy el hilo 1\", ¿Por qué no lo hizo? \n",
    "Esto sucede porque olvidamos ejecutar el método *start()*."
   ]
  },
  {
   "cell_type": "code",
   "execution_count": 12,
   "metadata": {},
   "outputs": [
    {
     "name": "stdout",
     "output_type": "stream",
     "text": [
      "hola soy el hilo 1\n"
     ]
    }
   ],
   "source": [
    "import threading\n",
    "\n",
    "class mi_hilo(threading.Thread):\n",
    "    def __init__(self, numero):\n",
    "        threading.Thread.__init__(self)\n",
    "        self.numero = numero\n",
    "    def run(self):\n",
    "        print (\"hola soy el hilo\", self.numero)\n",
    "\n",
    "hilo1 = mi_hilo(1)\n",
    "hilo1.start()"
   ]
  },
  {
   "cell_type": "markdown",
   "metadata": {},
   "source": [
    "También se pueden utilizar los hilos en conjunto con funciones. Se haría de la siguiente manera:"
   ]
  },
  {
   "cell_type": "code",
   "execution_count": 14,
   "metadata": {
    "colab": {
     "base_uri": "https://localhost:8080/",
     "height": 109
    },
    "colab_type": "code",
    "id": "VeUhzlDa0c92",
    "outputId": "f8a0ea32-2268-44db-ddf9-7af47e22c565"
   },
   "outputs": [
    {
     "name": "stdout",
     "output_type": "stream",
     "text": [
      "hola soy el \n"
     ]
    }
   ],
   "source": [
    "import threading\n",
    "\n",
    "def saludar():\n",
    "    print(\"hola soy el \")\n",
    "    \n",
    "hilo2 = threading.Thread(name=\"Hilo 2\", target=saludar)\n",
    "hilo2.start()"
   ]
  },
  {
   "cell_type": "markdown",
   "metadata": {},
   "source": [
    "En este caso utilizamos una sintaxis mucho más acotada, simplemente seteamos el nombre del hilo, y lo más importante, el *target*, debido a que de esta forma le indicamos al hilo qué función debe ejecutar. Es importante mencionar que cuando indiquemos la función sólo utilicemos el nombre de esta, sin los parentesis.\n",
    "De todas formas, hay algo que no parece estar correcto, debido a que no me indicó el nombre del hilo. Lo podemos resolver utilizando threading.current_thread()"
   ]
  },
  {
   "cell_type": "code",
   "execution_count": 15,
   "metadata": {},
   "outputs": [
    {
     "name": "stdout",
     "output_type": "stream",
     "text": [
      "hola soy el Hilo 2\n"
     ]
    }
   ],
   "source": [
    "import threading\n",
    "\n",
    "def saludar():\n",
    "    actual = threading.current_thread() # Esto nos indicará el hilo actual que esté ejecutando la función.\n",
    "    nombre = actual.getName() # Esto nos entragará el nombre del hilo actual\n",
    "    print(\"hola soy el {}\".format(nombre))\n",
    "    \n",
    "hilo2 = threading.Thread(name=\"Hilo 2\", target=saludar)\n",
    "hilo2.start()"
   ]
  },
  {
   "cell_type": "markdown",
   "metadata": {},
   "source": [
    "Crearemos unos hilos más!"
   ]
  },
  {
   "cell_type": "code",
   "execution_count": 19,
   "metadata": {},
   "outputs": [
    {
     "name": "stdout",
     "output_type": "stream",
     "text": [
      "hola soy el Hilo 2\n",
      "hola soy el Hilo 3\n",
      "hola soy el Hilo 4\n"
     ]
    }
   ],
   "source": [
    "import threading\n",
    "\n",
    "def saludar():\n",
    "    actual = threading.current_thread() # Esto nos indicará el hilo actual que esté ejecutando la función.\n",
    "    nombre = actual.getName() # Esto nos entragará el nombre del hilo actual\n",
    "    print(\"hola soy el {}\".format(nombre))\n",
    "    \n",
    "hilo2 = threading.Thread(name=\"Hilo 2\", target=saludar)\n",
    "hilo3 = threading.Thread(name=\"Hilo 3\", target=saludar)\n",
    "hilo4 = threading.Thread(name=\"Hilo 4\", target=saludar)\n",
    "\n",
    "hilo2.start()\n",
    "hilo3.start()\n",
    "hilo4.start()"
   ]
  },
  {
   "cell_type": "markdown",
   "metadata": {},
   "source": [
    "Otra cosa importante es que podemos enviar argumentos en nuestros hilos, para esto sólo necesitamos enviarlos como una tupla:"
   ]
  },
  {
   "cell_type": "code",
   "execution_count": 23,
   "metadata": {},
   "outputs": [
    {
     "name": "stdout",
     "output_type": "stream",
     "text": [
      "hola soy el Hilo 2, y tengo estas variables: 1 y 2\n",
      "hola soy el Hilo 3, y tengo estas variables: 3 y 4\n",
      "hola soy el Hilo 4, y tengo estas variables: 5 y 6\n"
     ]
    }
   ],
   "source": [
    "import threading\n",
    "\n",
    "def saludar(var1,var2):\n",
    "    actual = threading.current_thread()\n",
    "    nombre = actual.getName()\n",
    "    print(\"hola soy el {}, y tengo estas variables: {} y {}\".format(nombre, var1, var2))\n",
    "    \n",
    "hilo2 = threading.Thread(name=\"Hilo 2\", target=saludar, args=(1,2,)) # Recuerde que por ser una tupla debemos terminar con una ','\n",
    "hilo3 = threading.Thread(name=\"Hilo 3\", target=saludar, args=(3,4,))\n",
    "hilo4 = threading.Thread(name=\"Hilo 4\", target=saludar, args=(5,6,))\n",
    "\n",
    "hilo2.start()\n",
    "hilo3.start()\n",
    "hilo4.start()"
   ]
  },
  {
   "cell_type": "markdown",
   "metadata": {},
   "source": [
    "¿Qué sucederá si ejecutamos la función *saludar()* de forma independiente, qué nombre nos imprimirá?"
   ]
  },
  {
   "cell_type": "code",
   "execution_count": 26,
   "metadata": {},
   "outputs": [
    {
     "name": "stdout",
     "output_type": "stream",
     "text": [
      "hola soy el Hilo 2, y tengo estas variables: 1 y 2hola soy el Hilo 3, y tengo estas variables: 3 y 4\n",
      "hola soy el Hilo 4, y tengo estas variables: 5 y 6\n",
      "hola soy el MainThread, y tengo estas variables: 7 y 8\n",
      "\n"
     ]
    }
   ],
   "source": [
    "import threading\n",
    "\n",
    "def saludar(var1,var2):\n",
    "    actual = threading.current_thread()\n",
    "    nombre = actual.getName()\n",
    "    print(\"hola soy el {}, y tengo estas variables: {} y {}\".format(nombre, var1, var2))\n",
    "    \n",
    "hilo2 = threading.Thread(name=\"Hilo 2\", target=saludar, args=(1,2,)) # Recuerde que por ser una tupla debemos terminar con una ','\n",
    "hilo3 = threading.Thread(name=\"Hilo 3\", target=saludar, args=(3,4,))\n",
    "hilo4 = threading.Thread(name=\"Hilo 4\", target=saludar, args=(5,6,))\n",
    "\n",
    "hilo2.start()\n",
    "hilo3.start()\n",
    "hilo4.start()\n",
    "saludar(7,8)"
   ]
  },
  {
   "cell_type": "markdown",
   "metadata": {},
   "source": [
    "En este caso nos imprimió el nombre de su hilo, es decir el hilo principal 😱."
   ]
  },
  {
   "cell_type": "markdown",
   "metadata": {},
   "source": [
    "Otro tipo de hilo que nos puede ser de utilidad son los *Timer*. En este caso podemos setearle un tiempo de espera para que se ejecute el hilo:"
   ]
  },
  {
   "cell_type": "code",
   "execution_count": 29,
   "metadata": {},
   "outputs": [
    {
     "name": "stdout",
     "output_type": "stream",
     "text": [
      "hola soy el Thread-15, y tengo estas variables: 9 y 10\n"
     ]
    }
   ],
   "source": [
    "timer1 = threading.Timer(2.0, saludar, args=(9,10))\n",
    "timer1.start()"
   ]
  },
  {
   "cell_type": "markdown",
   "metadata": {},
   "source": [
    "En este caso demoró 2 segundos antes de ejecutar la función saludar. \n",
    "Por otra parte, la ejecución entregó un nombre por default, para los *Timer* no se puede utilizar *name=nombre*\n",
    "como lo habíamos hecho con los hilos anteriores."
   ]
  },
  {
   "cell_type": "markdown",
   "metadata": {},
   "source": [
    "Ahora veamos el siguiente ejemplo, en el cual veremos un contador que será ejecutado por dos hilos."
   ]
  },
  {
   "cell_type": "code",
   "execution_count": 37,
   "metadata": {},
   "outputs": [
    {
     "name": "stdout",
     "output_type": "stream",
     "text": [
      "Valor del contador =  20000\n"
     ]
    }
   ],
   "source": [
    "import threading\n",
    "\n",
    "n = 10000\n",
    "class Contador:\n",
    "    var = 0\n",
    "\n",
    "def sumar(contador):\n",
    "    for x in range(n):\n",
    "        contador.var += 1\n",
    "        \n",
    "\n",
    "contador = Contador()\n",
    "hilo1 = threading.Thread(target=sumar, args=(contador,))\n",
    "hilo2 = threading.Thread(target=sumar, args=(contador,))\n",
    "\n",
    "hilo1.start()\n",
    "hilo2.start()\n",
    "hilo1.join()\n",
    "hilo2.join()\n",
    "\n",
    "print(\"Valor del contador = \", contador.var)"
   ]
  },
  {
   "cell_type": "markdown",
   "metadata": {},
   "source": [
    "El resultado es correcto, debido a que ambos hilos incrementaron el contador 10000 veces, ¿cierto? \n",
    "Considerando lo anterior, ¿qué sucederá si aumento la variable ***n***, por ejemplo a 100000? 🤔"
   ]
  },
  {
   "cell_type": "code",
   "execution_count": 41,
   "metadata": {},
   "outputs": [
    {
     "name": "stdout",
     "output_type": "stream",
     "text": [
      "Valor del contador =  145690\n"
     ]
    }
   ],
   "source": [
    "import threading\n",
    "\n",
    "n = 100000\n",
    "class Contador:\n",
    "    var = 0\n",
    "\n",
    "def sumar(contador):\n",
    "    for x in range(n):\n",
    "        contador.var += 1\n",
    "        \n",
    "\n",
    "contador = Contador()\n",
    "hilo1 = threading.Thread(target=sumar, args=(contador,))\n",
    "hilo2 = threading.Thread(target=sumar, args=(contador,))\n",
    "\n",
    "hilo1.start()\n",
    "hilo2.start()\n",
    "hilo1.join()\n",
    "hilo2.join()\n",
    "\n",
    "print(\"Valor del contador = \", contador.var)"
   ]
  },
  {
   "cell_type": "markdown",
   "metadata": {},
   "source": [
    "🤷🏻‍♂️ debería haber dado 200000, ¿cierto?. \n",
    "Sucede que los hilos son un poco caprichosos en su funcionamiento, sobretodo cuando utilizan un mismo recurso.\n",
    "Por cierto, en este ejemplo estamos utilizando un nuevo método, *join()*, esto nos ayuda a que el interprete termine cuando los hilos (que invoquen *join()*) también lo hayan hecho.\n",
    "Volviendo al tema, ¿cómo podemos solucionar este problema?\n",
    "Para este caso podríamos utilizar un método llamdo *Lock()*, el cual nos ayudará a bloquear un recurso para limitar la disponibilidad de éste. Su implementación es sencilla, sólo debemos llamarlo y utilizar sus métodos *acquire()* para bloquear y *release* para liberar. Veamos el ejemplo anterior utilizando *Lock()*:"
   ]
  },
  {
   "cell_type": "code",
   "execution_count": 43,
   "metadata": {},
   "outputs": [
    {
     "name": "stdout",
     "output_type": "stream",
     "text": [
      "Valor del contador =  200000\n"
     ]
    }
   ],
   "source": [
    "import threading\n",
    "\n",
    "bloqueo = threading.Lock() # Creamos nuestro lock!\n",
    "\n",
    "n = 100000\n",
    "class Contador:\n",
    "    var = 0\n",
    "\n",
    "def sumar(contador):\n",
    "    for x in range(n):\n",
    "        bloqueo.acquire() # Bloqueamos\n",
    "        contador.var += 1\n",
    "        bloqueo.release() # liberamos\n",
    "        \n",
    "contador = Contador()\n",
    "hilo1 = threading.Thread(target=sumar, args=(contador,))\n",
    "hilo2 = threading.Thread(target=sumar, args=(contador,))\n",
    "\n",
    "hilo1.start()\n",
    "hilo2.start()\n",
    "hilo1.join()\n",
    "hilo2.join()\n",
    "\n",
    "print(\"Valor del contador = \", contador.var)"
   ]
  },
  {
   "cell_type": "code",
   "execution_count": null,
   "metadata": {},
   "outputs": [],
   "source": [
    "Ahora nuestro contador funciona correctamente! \n",
    "Otra forma un poco más acotada para implementar un lock es la siguiente:"
   ]
  },
  {
   "cell_type": "code",
   "execution_count": 44,
   "metadata": {},
   "outputs": [
    {
     "name": "stdout",
     "output_type": "stream",
     "text": [
      "Valor del contador =  200000\n"
     ]
    }
   ],
   "source": [
    "import threading\n",
    "\n",
    "bloqueo = threading.Lock() # Creamos nuestro lock!\n",
    "\n",
    "n = 100000\n",
    "class Contador:\n",
    "    var = 0\n",
    "\n",
    "def sumar(contador):\n",
    "    for x in range(n):\n",
    "        with bloqueo: # Esto realizará lo mismo que acquire() y release()\n",
    "            contador.var += 1\n",
    "        \n",
    "        \n",
    "contador = Contador()\n",
    "hilo1 = threading.Thread(target=sumar, args=(contador,))\n",
    "hilo2 = threading.Thread(target=sumar, args=(contador,))\n",
    "\n",
    "hilo1.start()\n",
    "hilo2.start()\n",
    "hilo1.join()\n",
    "hilo2.join()\n",
    "\n",
    "print(\"Valor del contador = \", contador.var)"
   ]
  },
  {
   "cell_type": "markdown",
   "metadata": {},
   "source": [
    "Los *locks* pueden ayudarnos mucho a la hora de utilizar hilos, pero hay otro objeto muy interesante\n",
    "que nos ayudará a controlar nuestros hilos, me refiero a los *Event()*.\n",
    "Para implementarlos sólo debemos crear un objeto (similar a como lo hicimos con Lock()), y luego utilizar los métodos *wait()* y *set()*, con el método *wait()* podremos hacer que la ejecución se detenga hasta que aparezca un *set()* que nos permitirá continuar.\n",
    "Para ver los *Event()* en acción utilizaremos un sencillo programa que simula el desarrollo de una aplicación. También nos ayudaremos de la biblioteca *Time* para evidenciar mejor el funcionamiento."
   ]
  },
  {
   "cell_type": "code",
   "execution_count": 45,
   "metadata": {},
   "outputs": [
    {
     "name": "stdout",
     "output_type": "stream",
     "text": [
      "Apliación en desarrollo\n",
      "Desarrollando diseño...\n",
      "Diseño listo!!!!!\n",
      "Desarrollando el backend...Desarrollando el Frontend...\n",
      "\n",
      "Frontend listo. En espera por backend...\n",
      "El backend está listo!!\n",
      "Frontend y backend listos!!!!\n",
      "La aplicación está lista!!!!\n"
     ]
    }
   ],
   "source": [
    "import threading, time\n",
    "\n",
    "backend = threading.Event()\n",
    "frontend = threading.Event()\n",
    "diseño = threading.Event()\n",
    "\n",
    "def desarrollar_backend():\n",
    "    diseño.wait()\n",
    "    print(\"Desarrollando el backend...\")\n",
    "    time.sleep(7)\n",
    "    print(\"El backend está listo!!\")\n",
    "    backend.set()\n",
    "\n",
    "def desarrollar_frontend():\n",
    "    diseño.wait()\n",
    "    print(\"Desarrollando el Frontend...\")\n",
    "    time.sleep(4)\n",
    "    print(\"Frontend listo. En espera por backend...\")\n",
    "    backend.wait()\n",
    "    print(\"Frontend y backend listos!!!!\")\n",
    "    frontend.set()\n",
    "\n",
    "def desarrollar_diseño():\n",
    "    time.sleep(2)\n",
    "    print(\"Desarrollando diseño...\")\n",
    "    time.sleep(3)\n",
    "    print(\"Diseño listo!!!!!\")\n",
    "    time.sleep(1)\n",
    "    diseño.set()\n",
    "\n",
    "def desarrollar_app():\n",
    "    print(\"Apliación en desarrollo\")\n",
    "    backend.wait()\n",
    "    frontend.wait()\n",
    "    print(\"La aplicación está lista!!!!\")\n",
    "\n",
    "h1 = threading.Thread(target=desarrollar_backend)\n",
    "h2 = threading.Thread(target=desarrollar_frontend)\n",
    "h3 = threading.Thread(target=desarrollar_diseño)\n",
    "h4 = threading.Thread(target=desarrollar_app)\n",
    "\n",
    "h1.start()\n",
    "h2.start()\n",
    "h3.start()\n",
    "h4.start()\n",
    "\n",
    "h1.join()\n",
    "h2.join()\n",
    "h3.join()\n",
    "h4.join()\n"
   ]
  },
  {
   "cell_type": "markdown",
   "metadata": {},
   "source": [
    "Analicemos esta simulación. En primer lugar, se crearon 3 eventos para controlar a los hilos. Luego definimos las diferentes funcioness. En nuestro hilo principal creamos 4 hilos, 1 para cada función, y dentro de las funciones invocamos a nuestros eventos para tener el control del desarrollo de esta aplicación. El desarrollo del backend tanto como el desarrollo del frontend no pueden iniciarse si el diseño no está listo, es por esta razón que tienen un *wait()*, luego cuando el diseño está listo el evento se libera (*set()*) y tanto el backend como el frontend comienzan su desarrollo. El frontend, en este caso, tarda menos que el backend por eso cuando está listo aún no se libera, esto sucede recién cuando el backend finaliza. Una vez terminados estos procesos la aplicación queda lista! 😁"
   ]
  }
 ],
 "metadata": {
  "celltoolbar": "Edit Metadata",
  "colab": {
   "name": "Ayudantia funcional.ipynb",
   "provenance": [],
   "toc_visible": true
  },
  "kernelspec": {
   "display_name": "Python 3",
   "language": "python",
   "name": "python3"
  },
  "language_info": {
   "codemirror_mode": {
    "name": "ipython",
    "version": 3
   },
   "file_extension": ".py",
   "mimetype": "text/x-python",
   "name": "python",
   "nbconvert_exporter": "python",
   "pygments_lexer": "ipython3",
   "version": "3.7.6"
  }
 },
 "nbformat": 4,
 "nbformat_minor": 1
}
